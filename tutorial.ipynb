{
 "cells": [
  {
   "cell_type": "markdown",
   "id": "f3c08d83-bd11-4ef8-9ea7-13a833211b03",
   "metadata": {},
   "source": [
    "# pydentate: a graph neural network tool for predicting metal-ligand coordination\n",
    "\n",
    "The following tutorial serves as an introduction to pydentate, an open-source python-based package for predicting metal-ligand coordination from only SMILES string inputs and generating 3D structures of transition metal complexes with the predicted coordination.\n",
    "\n",
    "This tutorial demonstrates how to predict coordinating atom indices from SMILES inputs. For illustrative purposes, a subset of the holdout data from the original paper is used here, which users should replace with their own datasets. The source is available at predict_coordination_number.py and predict_coordinating_atoms.py. Future tutorials will cover structure generation and hemilability prediction.\n",
    "\n",
    "For a detailed explanation of the tool, please refer to \"Graph neural networks for predicting metal–ligand coordination of transition metal complexes\" (https://doi.org/10.26434/chemrxiv-2024-nzk5q).\n",
    "\n",
    "If you find this work useful, please consider citing the associated publication:\n",
    "J. W. Toney, R. G. St. Michel, A. G. Garrison, I. Kevlishvili, H. J. Kulik, ChemRxiv 2024, 10.26434/chemrxiv-2024-nzk5q"
   ]
  },
  {
   "cell_type": "markdown",
   "id": "c68a3ad9-79ba-456a-9620-55c120ebeb9d",
   "metadata": {},
   "source": [
    "### Step 1: import dependencies\n",
    "If any of the required dependencies are unavailable, revisit the installation instructions provided on GitHub or the dependencies listed in pydentate.yml"
   ]
  },
  {
   "cell_type": "code",
   "execution_count": 1,
   "id": "5b1fe02c-819f-463c-9e7b-3ba72227b820",
   "metadata": {},
   "outputs": [],
   "source": [
    "import numpy as np\n",
    "import pandas as pd\n",
    "from rdkit import Chem\n",
    "import re\n",
    "import torch\n",
    "import torch.nn as nn\n",
    "from tqdm import tqdm\n",
    "import ast"
   ]
  },
  {
   "cell_type": "markdown",
   "id": "c0656410-bd8b-43f6-804a-59bf1abac349",
   "metadata": {},
   "source": [
    "### Step 2: define initial representation\n",
    "These models utilize the directed message passing neural network architecture (D-MPNN) to learn an optimal molecular representation, which is then passed through a feed forward network (FFN) for final property prediction. Before message passing, an initial molecular representation is required. This is defined using basic atomic (e.g., atomic number, formal charge, etc.) and bond descriptors (e.g., bond order, aromaticity, etc.), encoded below."
   ]
  },
  {
   "cell_type": "code",
   "execution_count": 2,
   "id": "5c56c44b-75c0-460d-8931-a82c4e8615b4",
   "metadata": {},
   "outputs": [],
   "source": [
    "# featurization\n",
    "class Featurization_parameters:\n",
    "    def __init__(self):\n",
    "        self.ATOM_FEATURES = {'atomic_num': list(range(100)),\n",
    "                              'degree': [0, 1, 2, 3, 4, 5],\n",
    "                              'formal_charge': [-1, -2, 1, 2, 0],\n",
    "                              'chiral_tag': [0, 1, 2, 3],\n",
    "                              'num_Hs': [0, 1, 2, 3, 4],\n",
    "                              'hybridization': [Chem.rdchem.HybridizationType.SP, Chem.rdchem.HybridizationType.SP2, Chem.rdchem.HybridizationType.SP3,\n",
    "                                                Chem.rdchem.HybridizationType.SP3D, Chem.rdchem.HybridizationType.SP3D2]}\n",
    "\n",
    "def onek_encoding_unk(value, choices):\n",
    "    encoding = [0] * (len(choices) + 1)\n",
    "    encoding[choices.index(value) if value in choices else -1] = 1\n",
    "    return encoding\n",
    "\n",
    "def atom_features(atom):\n",
    "    features = onek_encoding_unk(atom.GetAtomicNum() - 1, PARAMS.ATOM_FEATURES['atomic_num']) + \\\n",
    "        onek_encoding_unk(atom.GetTotalDegree(), PARAMS.ATOM_FEATURES['degree']) + \\\n",
    "        onek_encoding_unk(atom.GetFormalCharge(), PARAMS.ATOM_FEATURES['formal_charge']) + \\\n",
    "        onek_encoding_unk(int(atom.GetChiralTag()), PARAMS.ATOM_FEATURES['chiral_tag']) + \\\n",
    "        onek_encoding_unk(int(atom.GetTotalNumHs()), PARAMS.ATOM_FEATURES['num_Hs']) + \\\n",
    "        onek_encoding_unk(int(atom.GetHybridization()), PARAMS.ATOM_FEATURES['hybridization']) + \\\n",
    "        [1 if atom.GetIsAromatic() else 0] + [atom.GetMass() * 0.01]\n",
    "    return features\n",
    "\n",
    "def bond_features(bond):\n",
    "    bt = bond.GetBondType()\n",
    "    fbond = [0, bt == Chem.rdchem.BondType.SINGLE, bt == Chem.rdchem.BondType.DOUBLE,\n",
    "             bt == Chem.rdchem.BondType.TRIPLE, bt == Chem.rdchem.BondType.AROMATIC,\n",
    "             (bond.GetIsConjugated() if bt is not None else 0), (bond.IsInRing() if bt is not None else 0)]\n",
    "    fbond += onek_encoding_unk(int(bond.GetStereo()), list(range(6)))\n",
    "    return fbond"
   ]
  },
  {
   "cell_type": "markdown",
   "id": "d46447ab-9ee6-403d-906e-01605058d51b",
   "metadata": {},
   "source": [
    "### Step 3: create molecular graphs\n",
    "Because SMILES strings fully encode connectivity, the provided SMILES may be used to construct a molecular graph representing each molecule for use in message passing."
   ]
  },
  {
   "cell_type": "code",
   "execution_count": 3,
   "id": "358046bc-5c78-4df4-8ecb-596cb5d5eae5",
   "metadata": {},
   "outputs": [],
   "source": [
    "# create molecular graph\n",
    "class MolGraph:\n",
    "    def __init__(self, mol):\n",
    "        self.n_atoms = len(mol.GetAtoms())\n",
    "        f_atoms_list = [atom_features(atom) for atom in mol.GetAtoms()]\n",
    "        self.n_bonds, self.f_bonds, self.a2b, self.b2a, self.b2revb = 0, [], [[] for _ in range(self.n_atoms)], [], []\n",
    "        self.b2br = np.zeros([len(mol.GetBonds()), 2])\n",
    "        for a1 in range(self.n_atoms):\n",
    "            for a2 in range(a1 + 1, self.n_atoms):\n",
    "                bond = mol.GetBondBetweenAtoms(a1, a2)\n",
    "                if bond is None:\n",
    "                    continue\n",
    "                f_bond = bond_features(bond)\n",
    "                self.f_bonds.append(f_atoms_list[a1] + f_bond)\n",
    "                self.f_bonds.append(f_atoms_list[a2] + f_bond)\n",
    "                b1 = self.n_bonds\n",
    "                b2 = b1 + 1\n",
    "                self.a2b[a2].append(b1)\n",
    "                self.b2a.append(a1)\n",
    "                self.a2b[a1].append(b2)\n",
    "                self.b2a.append(a2)\n",
    "                self.b2revb.append(b2)\n",
    "                self.b2revb.append(b1)\n",
    "                self.b2br[bond.GetIdx(), :] = [self.n_bonds, self.n_bonds + 1]\n",
    "                self.n_bonds += 2\n",
    "        self.atom_fdim = 133\n",
    "        self.bond_fdim = 14 + 133\n",
    "        f_atoms = [[0] * self.atom_fdim]\n",
    "        f_bonds = [[0] * self.bond_fdim]\n",
    "        a2b = [[]]\n",
    "        b2a = [0]\n",
    "        b2revb = [0]\n",
    "        f_atoms.extend(f_atoms_list)\n",
    "        f_bonds.extend(self.f_bonds)\n",
    "        a2b.extend([[b + 1 for b in self.a2b[a]] for a in range(self.n_atoms)])\n",
    "        b2a.extend([1 + self.b2a[b] for b in range(self.n_bonds)])\n",
    "        b2revb.extend([1 + self.b2revb[b] for b in range(self.n_bonds)])\n",
    "        self.n_atoms = 1 + self.n_atoms\n",
    "        self.n_bonds = 1 + self.n_bonds\n",
    "        self.max_num_bonds = max(1, max(len(in_bonds) for in_bonds in a2b))\n",
    "        self.f_atoms = torch.tensor(f_atoms, dtype=torch.float)\n",
    "        self.f_bonds = torch.tensor(f_bonds, dtype=torch.float)\n",
    "        self.a2b = torch.tensor([a + [0] * (self.max_num_bonds - len(a)) for a in a2b], dtype=torch.long)\n",
    "        self.b2a = torch.tensor(b2a, dtype=torch.long)\n",
    "        self.b2revb = torch.tensor(b2revb, dtype=torch.long)\n",
    "\n",
    "def make_mol(s):\n",
    "    params = Chem.SmilesParserParams()\n",
    "    params.removeHs = True\n",
    "    mol = Chem.MolFromSmiles(s, params)\n",
    "    for atom in mol.GetAtoms():\n",
    "        atom.SetAtomMapNum(0)\n",
    "    return mol"
   ]
  },
  {
   "cell_type": "markdown",
   "id": "bdd73337-5deb-4119-a5bd-3c2da9aa6360",
   "metadata": {},
   "source": [
    "### Step 4: define model architectures\n",
    "Now that molecular graphs have been constructed for each molecule and an initial representation generated, we must defined the architecture for updating representations and generating predictions."
   ]
  },
  {
   "cell_type": "code",
   "execution_count": 4,
   "id": "2a5fb1df-fe92-4428-acd5-621c4c575168",
   "metadata": {},
   "outputs": [],
   "source": [
    "# model architectures\n",
    "class MoleculeModel(nn.Module):\n",
    "    def __init__(self):\n",
    "        super().__init__()\n",
    "        self.encoder = MPN()\n",
    "        self.readout = MultiReadout()\n",
    "    def forward(self, mol_graph):\n",
    "        encodings = self.encoder(mol_graph)\n",
    "        output = self.readout(encodings)\n",
    "        output = [nn.Sigmoid()(x) for x in output]\n",
    "        return output\n",
    "\n",
    "class MPNEncoder(nn.Module):\n",
    "    def __init__(self):\n",
    "        super().__init__()\n",
    "        self.dropout = nn.Dropout(0.35)\n",
    "        self.act_func = nn.ReLU()\n",
    "        self.W_i = nn.Linear(in_features=14+133, out_features=600, bias=False)\n",
    "        self.W_h = nn.Linear(in_features=600, out_features=600, bias=False)\n",
    "        self.W_o = nn.Linear(in_features=133+600, out_features=600)\n",
    "        self.W_o_b = nn.Linear(in_features=14+133+600, out_features=600)\n",
    "    def forward(self, mol_graph):\n",
    "        f_atoms, f_bonds, a2b, b2a, b2revb = mol_graph.f_atoms, mol_graph.f_bonds, mol_graph.a2b, mol_graph.b2a, mol_graph.b2revb\n",
    "        input = self.W_i(f_bonds)\n",
    "        message = self.act_func(input)\n",
    "        for depth in range(6 - 1):\n",
    "            nei_a_message = message.index_select(dim=0, index=a2b.view(-1)).view(a2b.size() + message.size()[1:])\n",
    "            message = self.W_h(nei_a_message.sum(dim=1)[b2a] - message[b2revb])\n",
    "            message = self.dropout(self.act_func(input + message))\n",
    "        nei_a_message = message.index_select(dim=0, index=a2b.view(-1)).view(a2b.size() + message.size()[1:])\n",
    "        a_message = nei_a_message.sum(dim=1)\n",
    "        a_input = torch.cat([f_atoms, a_message], dim=1)\n",
    "        atom_hiddens = self.dropout(self.act_func(self.W_o(a_input)))\n",
    "        return atom_hiddens\n",
    "\n",
    "class MPN(nn.Module):\n",
    "    def __init__(self):\n",
    "        super(MPN, self).__init__()\n",
    "        self.encoder = nn.ModuleList([MPNEncoder()])\n",
    "    def forward(self, mol_graph):\n",
    "        return self.encoder[0](mol_graph)\n",
    "\n",
    "def build_ffn():\n",
    "    layers = [nn.Dropout(0.35), nn.Linear(in_features=600, out_features=600)]\n",
    "    layers.extend([nn.ReLU(), nn.Dropout(0.35), nn.Linear(in_features=600, out_features=600)])\n",
    "    return nn.Sequential(*layers)\n",
    "\n",
    "class MultiReadout(nn.Module):\n",
    "    def __init__(self):\n",
    "        super().__init__()\n",
    "        self.ffn_list = nn.ModuleList([FFN()])\n",
    "    def forward(self, input):\n",
    "        return [self.ffn_list[0](input)]\n",
    "\n",
    "class FFN(nn.Module):\n",
    "    def __init__(self):\n",
    "        super().__init__()\n",
    "        self.ffn = nn.Sequential(build_ffn(), nn.ReLU())\n",
    "        self.ffn_readout = nn.Sequential(nn.Dropout(0.35), nn.Linear(in_features=600, out_features=1))\n",
    "    def forward(self, input):\n",
    "        input = self.ffn(input)\n",
    "        output = self.ffn_readout(input)[1:]\n",
    "        return output"
   ]
  },
  {
   "cell_type": "markdown",
   "id": "10e05ed7-5b43-45aa-a34d-fdcaac7dedc2",
   "metadata": {},
   "source": [
    "### Step 5: generate predictions\n",
    "Finally, the trained models are loaded to generate predictions of coordinating atom indices."
   ]
  },
  {
   "cell_type": "code",
   "execution_count": 5,
   "id": "1297e5b7-f259-4f52-bfc6-224ae7a151bf",
   "metadata": {},
   "outputs": [
    {
     "name": "stdout",
     "output_type": "stream",
     "text": [
      "Loading training args\n",
      "Loading pretrained parameter: encoder.encoder.0.W_i.weight\n",
      "Loading pretrained parameter: encoder.encoder.0.W_h.weight\n",
      "Loading pretrained parameter: encoder.encoder.0.W_o.weight\n",
      "Loading pretrained parameter: encoder.encoder.0.W_o.bias\n",
      "Loading pretrained parameter: encoder.encoder.0.W_o_b.weight\n",
      "Loading pretrained parameter: encoder.encoder.0.W_o_b.bias\n",
      "Loading pretrained parameter: readout.ffn_list.0.ffn.0.1.weight\n",
      "Loading pretrained parameter: readout.ffn_list.0.ffn.0.1.bias\n",
      "Loading pretrained parameter: readout.ffn_list.0.ffn.0.4.weight\n",
      "Loading pretrained parameter: readout.ffn_list.0.ffn.0.4.bias\n",
      "Loading pretrained parameter: readout.ffn_list.0.ffn_readout.1.weight\n",
      "Loading pretrained parameter: readout.ffn_list.0.ffn_readout.1.bias\n"
     ]
    },
    {
     "name": "stderr",
     "output_type": "stream",
     "text": [
      "100%|██████████████████████████████████████████| 99/99 [00:00<00:00, 215.17it/s]"
     ]
    },
    {
     "name": "stdout",
     "output_type": "stream",
     "text": [
      "Saving predictions to coordinating_atom_preds.csv\n",
      "Done predicting!\n"
     ]
    },
    {
     "name": "stderr",
     "output_type": "stream",
     "text": [
      "\n"
     ]
    }
   ],
   "source": [
    "# generate predictions\n",
    "def make_predictions():\n",
    "    # load model\n",
    "    print('Loading training args')\n",
    "    state = torch.load('models/coordinating_atoms.pt', map_location=lambda storage, loc: storage, weights_only=False)\n",
    "    loaded_state_dict = state['state_dict']\n",
    "    model = MoleculeModel()\n",
    "    model_state_dict = model.state_dict()\n",
    "    pretrained_state_dict = {}\n",
    "    for loaded_param_name in loaded_state_dict.keys():\n",
    "        if loaded_param_name in model_state_dict.keys():\n",
    "            if re.match(r'(encoder\\.encoder\\.)([Wc])', loaded_param_name):\n",
    "                param_name = loaded_param_name.replace('encoder.encoder', 'encoder.encoder.0')\n",
    "            elif re.match(r'(^ffn)', loaded_param_name):\n",
    "                param_name = loaded_param_name.replace('ffn', 'readout')\n",
    "            else:\n",
    "                param_name = loaded_param_name\n",
    "            print(f'Loading pretrained parameter: {loaded_param_name}')\n",
    "            pretrained_state_dict[param_name] = loaded_state_dict[loaded_param_name]\n",
    "    model_state_dict.update(pretrained_state_dict)\n",
    "    model.load_state_dict(model_state_dict)\n",
    "    # set features\n",
    "    global PARAMS\n",
    "    PARAMS = Featurization_parameters()\n",
    "    # load data, generate predictions\n",
    "    smiles_list = pd.read_csv('holdout_subset.csv')['smiles_rdkit'].tolist()\n",
    "    mol_list = [make_mol(smiles) for smiles in smiles_list]\n",
    "    model.eval()\n",
    "    preds = []\n",
    "    for mol in tqdm(mol_list):\n",
    "        mol_graph = MolGraph(mol)\n",
    "        with torch.no_grad():\n",
    "            pred = model(mol_graph)\n",
    "        preds.extend(pred)\n",
    "    preds = [pred.flatten().tolist() for pred in preds]\n",
    "    results = {'smiles': smiles_list, 'coordinating_atom_probabilities': preds}\n",
    "    print('Saving predictions to coordinating_atom_preds.csv')\n",
    "    pd.DataFrame(results).to_csv('coordinating_atom_preds.csv', index=False)\n",
    "    return preds\n",
    "\n",
    "coord_atom_preds = make_predictions()\n",
    "print('Done predicting!')"
   ]
  },
  {
   "cell_type": "markdown",
   "id": "38fbbaef-5fd3-41eb-9bca-1373c4772ffb",
   "metadata": {},
   "source": [
    "### Step 6: process predictions\n",
    "For use in downstream workflows, the predictions are parsed and rounded."
   ]
  },
  {
   "cell_type": "code",
   "execution_count": 7,
   "id": "56d7c14a-01ba-4d5b-92ae-223a50699402",
   "metadata": {},
   "outputs": [],
   "source": [
    "# read coordinating atom predictions, parse into usable format\n",
    "coord_atom_preds = pd.read_csv('coordinating_atom_preds.csv')\n",
    "coord_atom_preds['coordinating_atom_probabilities'] = coord_atom_preds['coordinating_atom_probabilities'].apply(ast.literal_eval)\n",
    "\n",
    "# calculate uncertainty as the greatest deviation from zero or one\n",
    "uncertainty = [np.max([1-pred if pred >= 0.5 else pred for pred in coord_atom_preds['coordinating_atom_probabilities'][idx]]) for idx in range(len(coord_atom_preds))]\n",
    "coord_atom_preds['coordinating_atom_uncertainty'] = uncertainty\n",
    "\n",
    "# round predictions\n",
    "coord_atom_preds['predicted_coordinating_atoms'] = [[idx for idx, atom in enumerate(np.round(coord_atom_preds['coordinating_atom_probabilities'][row_idx])) if atom != 0] for row_idx in range(len(coord_atom_preds))]\n",
    "\n",
    "# save results\n",
    "coord_atom_preds.to_csv('coordinating_atom_preds.csv', index=False)"
   ]
  }
 ],
 "metadata": {
  "kernelspec": {
   "display_name": "Python 3 (ipykernel)",
   "language": "python",
   "name": "python3"
  },
  "language_info": {
   "codemirror_mode": {
    "name": "ipython",
    "version": 3
   },
   "file_extension": ".py",
   "mimetype": "text/x-python",
   "name": "python",
   "nbconvert_exporter": "python",
   "pygments_lexer": "ipython3",
   "version": "3.8.15"
  }
 },
 "nbformat": 4,
 "nbformat_minor": 5
}
