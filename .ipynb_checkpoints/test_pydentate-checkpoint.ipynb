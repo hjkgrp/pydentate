{
 "cells": [
  {
   "cell_type": "code",
   "execution_count": 1,
   "id": "33f25a89-4548-4199-abee-17c9e8d5ea30",
   "metadata": {},
   "outputs": [],
   "source": [
    "from pydentate import predict\n",
    "\n",
    "from pydentate import analyze"
   ]
  },
  {
   "cell_type": "code",
   "execution_count": 2,
   "id": "d6dc18a8-ddf8-4ffc-b05a-3ec436858472",
   "metadata": {},
   "outputs": [
    {
     "name": "stdout",
     "output_type": "stream",
     "text": [
      "Loading training args\n",
      "Loading pretrained parameter: encoder.encoder.0.W_i.weight\n",
      "Loading pretrained parameter: encoder.encoder.0.W_h.weight\n",
      "Loading pretrained parameter: encoder.encoder.0.W_o.weight\n",
      "Loading pretrained parameter: encoder.encoder.0.W_o.bias\n",
      "Loading pretrained parameter: readout.ffn_list.0.ffn.0.1.weight\n",
      "Loading pretrained parameter: readout.ffn_list.0.ffn.0.1.bias\n",
      "Loading pretrained parameter: readout.ffn_list.0.ffn.0.4.weight\n",
      "Loading pretrained parameter: readout.ffn_list.0.ffn.0.4.bias\n",
      "Loading pretrained parameter: readout.ffn_list.0.ffn_readout.1.weight\n",
      "Loading pretrained parameter: readout.ffn_list.0.ffn_readout.1.bias\n"
     ]
    },
    {
     "name": "stderr",
     "output_type": "stream",
     "text": [
      "100%|██████████████████████████████████████████| 99/99 [00:00<00:00, 321.68it/s]"
     ]
    },
    {
     "name": "stdout",
     "output_type": "stream",
     "text": [
      "Saving predictions to coordinating_atoms_preds.csv\n",
      "Done predicting coordinating_atoms!\n"
     ]
    },
    {
     "name": "stderr",
     "output_type": "stream",
     "text": [
      "\n"
     ]
    }
   ],
   "source": [
    "# task = 'coordination_number'\n",
    "task = 'coordinating_atoms'\n",
    "predict.make_predictions(input_path='example_ligands.csv', task=task, smiles_column='smiles')"
   ]
  },
  {
   "cell_type": "code",
   "execution_count": 3,
   "id": "3312c720-9f86-40fd-9821-822bc87218d0",
   "metadata": {},
   "outputs": [
    {
     "name": "stdout",
     "output_type": "stream",
     "text": [
      "Predictions processed!\n"
     ]
    }
   ],
   "source": [
    "analyze.parse_predictions(input_path='coordinating_atoms_preds.csv', task='coordinating_atoms', smiles_column='smiles')"
   ]
  },
  {
   "cell_type": "code",
   "execution_count": 4,
   "id": "7d4d2f16-3292-4920-bb86-3f45c50d076a",
   "metadata": {},
   "outputs": [],
   "source": [
    "analyze.enforce_consistent_predictions(coordination_number_path='coordination_number_preds.csv',\n",
    "                                       coordinating_atoms_path='coordinating_atoms_preds.csv')"
   ]
  },
  {
   "cell_type": "code",
   "execution_count": null,
   "id": "7f36c9f8-221d-4ce5-9f60-a886bbe6b09c",
   "metadata": {},
   "outputs": [],
   "source": []
  }
 ],
 "metadata": {
  "kernelspec": {
   "display_name": "Python 3 (ipykernel)",
   "language": "python",
   "name": "python3"
  },
  "language_info": {
   "codemirror_mode": {
    "name": "ipython",
    "version": 3
   },
   "file_extension": ".py",
   "mimetype": "text/x-python",
   "name": "python",
   "nbconvert_exporter": "python",
   "pygments_lexer": "ipython3",
   "version": "3.10.16"
  }
 },
 "nbformat": 4,
 "nbformat_minor": 5
}
