{
 "cells": [
  {
   "cell_type": "markdown",
   "id": "f3c08d83-bd11-4ef8-9ea7-13a833211b03",
   "metadata": {},
   "source": [
    "# pydentate: a graph neural network tool for predicting metal-ligand coordination\n",
    "\n",
    "The following tutorial serves as an introduction to pydentate, an open-source python-based package for predicting metal-ligand coordination. from only SMILES string inputs and generating 3D structures of transition metal complexes with the predicted coordination.\n",
    "\n",
    "For a detailed explanation of the tool, please refer to \"Graph neural networks for predicting metal–ligand coordination of transition metal complexes\" (https://doi.org/10.26434/chemrxiv-2024-nzk5q).\n",
    "\n",
    "If you find this work useful, please consider citing the associated publication:\n",
    "J. W. Toney, R. G. St. Michel, A. G. Garrison, I. Kevlishvili, H. J. Kulik, ChemRxiv 2024, 10.26434/chemrxiv-2024-nzk5q"
   ]
  },
  {
   "cell_type": "markdown",
   "id": "c68a3ad9-79ba-456a-9620-55c120ebeb9d",
   "metadata": {},
   "source": [
    "### Step 1: install dependencies"
   ]
  },
  {
   "cell_type": "code",
   "execution_count": 8,
   "id": "5b1fe02c-819f-463c-9e7b-3ba72227b820",
   "metadata": {},
   "outputs": [],
   "source": [
    "import chemprop\n",
    "import pandas as pd\n",
    "import numpy as np"
   ]
  },
  {
   "cell_type": "markdown",
   "id": "c0656410-bd8b-43f6-804a-59bf1abac349",
   "metadata": {},
   "source": [
    "### Step 2: predict denticity and coordinating atoms\n",
    "The trained machine learning models are loaded here and used to predict denticity (total number of coordinating atoms) and coordinating atom indices from ligand SMILES strings. For illustrative purposes, a subset of the holdout data from the original paper is used here, which users should replace with their own datasets."
   ]
  },
  {
   "cell_type": "code",
   "execution_count": 9,
   "id": "5c56c44b-75c0-460d-8931-a82c4e8615b4",
   "metadata": {},
   "outputs": [
    {
     "name": "stdout",
     "output_type": "stream",
     "text": [
      "Loading training args\n",
      "Setting molecule featurization parameters to default.\n",
      "Loading data\n"
     ]
    },
    {
     "name": "stderr",
     "output_type": "stream",
     "text": [
      "99it [00:00, 378174.95it/s]\n",
      "100%|███████████████████████████████████████| 99/99 [00:00<00:00, 245701.83it/s]\n"
     ]
    },
    {
     "name": "stdout",
     "output_type": "stream",
     "text": [
      "Validating SMILES\n",
      "Test size = 99\n"
     ]
    },
    {
     "name": "stderr",
     "output_type": "stream",
     "text": [
      "  0%|                                                     | 0/1 [00:00<?, ?it/s]"
     ]
    },
    {
     "name": "stdout",
     "output_type": "stream",
     "text": [
      "Loading pretrained parameter \"encoder.encoder.0.cached_zero_vector\".\n",
      "Loading pretrained parameter \"encoder.encoder.0.W_i.weight\".\n",
      "Loading pretrained parameter \"encoder.encoder.0.W_h.weight\".\n",
      "Loading pretrained parameter \"encoder.encoder.0.W_o.weight\".\n",
      "Loading pretrained parameter \"encoder.encoder.0.W_o.bias\".\n",
      "Loading pretrained parameter \"readout.1.weight\".\n",
      "Loading pretrained parameter \"readout.1.bias\".\n",
      "Loading pretrained parameter \"readout.4.weight\".\n",
      "Loading pretrained parameter \"readout.4.bias\".\n",
      "Loading pretrained parameter \"readout.7.weight\".\n",
      "Loading pretrained parameter \"readout.7.bias\".\n"
     ]
    },
    {
     "name": "stderr",
     "output_type": "stream",
     "text": [
      "\n",
      "  0%|                                                     | 0/2 [00:00<?, ?it/s]\u001b[A\n",
      " 50%|██████████████████████▌                      | 1/2 [00:03<00:03,  3.57s/it]\u001b[A\n",
      "100%|█████████████████████████████████████████████| 1/1 [00:13<00:00, 13.73s/it]\u001b[A\n"
     ]
    },
    {
     "name": "stdout",
     "output_type": "stream",
     "text": [
      "Saving predictions to dent_preds.csv\n",
      "Elapsed time = 0:00:14\n",
      "Loading training args\n",
      "Setting molecule featurization parameters to default.\n",
      "Loading data\n"
     ]
    },
    {
     "name": "stderr",
     "output_type": "stream",
     "text": [
      "99it [00:00, 385191.18it/s]\n",
      "100%|███████████████████████████████████████| 99/99 [00:00<00:00, 245701.83it/s]\n"
     ]
    },
    {
     "name": "stdout",
     "output_type": "stream",
     "text": [
      "Validating SMILES\n",
      "Test size = 99\n"
     ]
    },
    {
     "name": "stderr",
     "output_type": "stream",
     "text": [
      "  0%|                                                     | 0/1 [00:00<?, ?it/s]"
     ]
    },
    {
     "name": "stdout",
     "output_type": "stream",
     "text": [
      "Loading pretrained parameter \"encoder.encoder.0.cached_zero_vector\".\n",
      "Loading pretrained parameter \"encoder.encoder.0.W_i.weight\".\n",
      "Loading pretrained parameter \"encoder.encoder.0.W_h.weight\".\n",
      "Loading pretrained parameter \"encoder.encoder.0.W_o.weight\".\n",
      "Loading pretrained parameter \"encoder.encoder.0.W_o.bias\".\n",
      "Loading pretrained parameter \"encoder.encoder.0.W_o_b.weight\".\n",
      "Loading pretrained parameter \"encoder.encoder.0.W_o_b.bias\".\n",
      "Loading pretrained parameter \"readout.atom_ffn_base.0.1.weight\".\n",
      "Loading pretrained parameter \"readout.atom_ffn_base.0.1.bias\".\n",
      "Loading pretrained parameter \"readout.atom_ffn_base.0.4.weight\".\n",
      "Loading pretrained parameter \"readout.atom_ffn_base.0.4.bias\".\n",
      "Loading pretrained parameter \"readout.bond_ffn_base.0.1.weight\".\n",
      "Loading pretrained parameter \"readout.bond_ffn_base.0.1.bias\".\n",
      "Loading pretrained parameter \"readout.bond_ffn_base.0.4.weight\".\n",
      "Loading pretrained parameter \"readout.bond_ffn_base.0.4.bias\".\n",
      "Loading pretrained parameter \"readout.ffn_list.0.ffn.0.1.weight\".\n",
      "Loading pretrained parameter \"readout.ffn_list.0.ffn.0.1.bias\".\n",
      "Loading pretrained parameter \"readout.ffn_list.0.ffn.0.4.weight\".\n",
      "Loading pretrained parameter \"readout.ffn_list.0.ffn.0.4.bias\".\n",
      "Loading pretrained parameter \"readout.ffn_list.0.ffn_readout.1.weight\".\n",
      "Loading pretrained parameter \"readout.ffn_list.0.ffn_readout.1.bias\".\n"
     ]
    },
    {
     "name": "stderr",
     "output_type": "stream",
     "text": [
      "\n",
      "  0%|                                                     | 0/2 [00:00<?, ?it/s]\u001b[A\n",
      " 50%|██████████████████████▌                      | 1/2 [00:03<00:03,  3.41s/it]\u001b[A\n",
      "100%|█████████████████████████████████████████████| 1/1 [00:13<00:00, 13.60s/it]\u001b[A"
     ]
    },
    {
     "name": "stdout",
     "output_type": "stream",
     "text": [
      "Saving predictions to catom_preds.csv\n",
      "Elapsed time = 0:00:14\n",
      "Done predicting!\n"
     ]
    },
    {
     "name": "stderr",
     "output_type": "stream",
     "text": [
      "\n"
     ]
    }
   ],
   "source": [
    "# test_path: path to .csv you want to generate predictions on\n",
    "# smiles_columns: name of column in .csv where SMILES are stored. Assumes 'smiles' unless otherwise specified\n",
    "# preds_path: path to .csv where your results will be saved\n",
    "\n",
    "# predict denticity from SMILES\n",
    "pred_dent_args_list = ['--test_path', 'holdout_subset.csv',\n",
    "                       '--checkpoint_path', 'trained_models/pred_dent_model.pt',\n",
    "                       '--smiles_columns', 'smiles',\n",
    "                       '--preds_path', 'dent_preds.csv']\n",
    "\n",
    "pred_dent_args = chemprop.args.PredictArgs().parse_args(args=pred_dent_args_list)\n",
    "dent_preds = chemprop.train.make_predictions(args=pred_dent_args)\n",
    "\n",
    "# predict coordinating atoms from SMILES\n",
    "pred_catoms_args_list = ['--test_path', 'holdout_subset.csv',\n",
    "                         '--checkpoint_path', 'trained_models/pred_catoms_model.pt',\n",
    "                         '--smiles_columns', 'smiles',\n",
    "                         '--preds_path', 'catom_preds.csv']\n",
    "\n",
    "pred_catoms_args = chemprop.args.PredictArgs().parse_args(args=pred_catoms_args_list)\n",
    "catom_preds = chemprop.train.make_predictions(args=pred_catoms_args)\n",
    "\n",
    "print('Done predicting!')"
   ]
  },
  {
   "cell_type": "markdown",
   "id": "d46447ab-9ee6-403d-906e-01605058d51b",
   "metadata": {},
   "source": [
    "# Step 3: process predictions\n",
    "Read in predicted denticity and coordinating atoms, parse into usable format."
   ]
  },
  {
   "cell_type": "code",
   "execution_count": 11,
   "id": "358046bc-5c78-4df4-8ecb-596cb5d5eae5",
   "metadata": {},
   "outputs": [],
   "source": [
    "# read denticity predictions, parse into usable format\n",
    "df_dent_preds = pd.read_csv('dent_preds.csv')\n",
    "parsed_rows = []\n",
    "for idx, class_0 in enumerate(df_dent_preds['denticities_zero_index_class_0']):\n",
    "    parsed_rows.append([class_0, df_dent_preds['denticities_zero_index_class_1'][idx],\n",
    "                      df_dent_preds['denticities_zero_index_class_2'][idx],\n",
    "                      df_dent_preds['denticities_zero_index_class_3'][idx],\n",
    "                      df_dent_preds['denticities_zero_index_class_4'][idx],\n",
    "                      df_dent_preds['denticities_zero_index_class_5'][idx]])\n",
    "df_dent_preds['denticities_zero_index'] = parsed_rows\n",
    "df_dent_preds = df_dent_preds[['smiles', 'denticities_zero_index']]\n",
    "\n",
    "# read coordinating atom predictions, parse into usable format\n",
    "df_catom_preds = pd.read_csv('catom_preds.csv')\n",
    "parsed_rows = []\n",
    "for row in df_catom_preds['Padded_catoms_rdkit']:\n",
    "    row = row.split(' ')\n",
    "    parsed_row = []\n",
    "    for entry in row:\n",
    "        parsed_row.append(float(entry.replace('[','').replace(']','').replace('\\n','')))\n",
    "    parsed_rows.append(parsed_row)\n",
    "df_catom_preds['Padded_catoms_rdkit'] = parsed_rows\n"
   ]
  },
  {
   "cell_type": "markdown",
   "id": "bdd73337-5deb-4119-a5bd-3c2da9aa6360",
   "metadata": {},
   "source": [
    "# Step 3: use models synergistically\n",
    "In most instances, pydentate correctly identifies the denticity and coordinating atoms of a ligand independently. However, in instances of conflicting initial predictions, the less confident prediction is overwritten to be compatible with the more confident prediction.\n",
    "\n",
    "For example, a ligand predicted as monodentate but predicted to have two coordinating atoms would be an instance of a conflicting prediction. In such cases, the more confident prediction is used and the less confident prediction overwritten. If the model were more confident in its predicted denticity than coordinating atoms, only the single most confidently predicted coordinating atom would be returned.\n",
    "\n",
    "A more detailed discussion of this synergistic use is available in Supporting Information Figures S15-S17 of the associated publication."
   ]
  },
  {
   "cell_type": "code",
   "execution_count": 13,
   "id": "2a5fb1df-fe92-4428-acd5-621c4c575168",
   "metadata": {},
   "outputs": [],
   "source": [
    "# use models synergistically\n",
    "new_catom_preds = []\n",
    "new_dent_preds = []\n",
    "\n",
    "for idx, smiles in enumerate(df_catom_preds['smiles']):\n",
    "    catom_preds = df_catom_preds['Padded_catoms_rdkit'][idx]\n",
    "    dent_preds = df_dent_preds['denticities_zero_index'][idx]\n",
    "\n",
    "    if np.sum(np.round(catom_preds)) != np.argmax(dent_preds)+1:\n",
    "        catom_uncertainty = np.max([1-pred if pred >= 0.5 else pred for pred in catom_preds])\n",
    "        dent_uncertainty = np.max([1-pred if pred >= 0.5 else pred for pred in dent_preds])\n",
    "        \n",
    "        if catom_uncertainty > dent_uncertainty:\n",
    "            # replace catom_preds\n",
    "            top_indices = np.argsort(catom_preds)[-(np.argmax(dent_preds)+1):][::-1]\n",
    "            new_catom_preds.append([1 if idx in top_indices else 0 for idx in range(len(catom_preds))])\n",
    "            new_dent_preds.append(dent_preds)\n",
    "        \n",
    "        else:\n",
    "            # replace dent preds\n",
    "            # new_dent_pred = max(np.sum(np.round(catom_preds)),1)\n",
    "            new_dent_pred = np.sum(np.round(catom_preds))\n",
    "            new_dent_preds.append(new_dent_pred)\n",
    "            new_catom_preds.append(catom_preds)\n",
    "\n",
    "    else:\n",
    "        new_catom_preds.append(catom_preds)\n",
    "        new_dent_preds.append(dent_preds)\n",
    "\n",
    "\n",
    "df_dent_preds['denticities_zero_index'] = new_dent_preds\n",
    "df_catom_preds['Padded_catoms_rdkit'] = new_catom_preds"
   ]
  },
  {
   "cell_type": "markdown",
   "id": "10e05ed7-5b43-45aa-a34d-fdcaac7dedc2",
   "metadata": {},
   "source": [
    "# Step 4: round predictions, save results"
   ]
  },
  {
   "cell_type": "code",
   "execution_count": 16,
   "id": "1297e5b7-f259-4f52-bfc6-224ae7a151bf",
   "metadata": {},
   "outputs": [],
   "source": [
    "# round predictions, save results\n",
    "df_results = pd.DataFrame({'smiles': df_catom_preds['smiles'],\n",
    "                           'predicted_denticity': df_dent_preds['denticities_zero_index'].apply(lambda x: np.argmax(x)+1 if type(x)==list else x),\n",
    "                           'predicted_coordinating_atoms': df_catom_preds['Padded_catoms_rdkit'].apply(lambda x: np.round(x))})\n",
    "\n",
    "df_results.to_csv('combined_ligand_preds.csv', index=False)"
   ]
  },
  {
   "cell_type": "code",
   "execution_count": null,
   "id": "56d7c14a-01ba-4d5b-92ae-223a50699402",
   "metadata": {},
   "outputs": [],
   "source": []
  }
 ],
 "metadata": {
  "kernelspec": {
   "display_name": "Python 3 (ipykernel)",
   "language": "python",
   "name": "python3"
  },
  "language_info": {
   "codemirror_mode": {
    "name": "ipython",
    "version": 3
   },
   "file_extension": ".py",
   "mimetype": "text/x-python",
   "name": "python",
   "nbconvert_exporter": "python",
   "pygments_lexer": "ipython3",
   "version": "3.8.19"
  }
 },
 "nbformat": 4,
 "nbformat_minor": 5
}
